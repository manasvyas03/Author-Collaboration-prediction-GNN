{
 "cells": [
  {
   "cell_type": "code",
   "execution_count": 32,
   "metadata": {},
   "outputs": [],
   "source": [
    "import torch\n",
    "import torch.nn as nn\n",
    "import torch.nn.functional as F\n",
    "import pandas as pd\n",
    "import matplotlib.pyplot as plt\n",
    "from torch_geometric.data import Data\n",
    "from torch_geometric.nn import GCNConv\n",
    "from torch_geometric.utils import negative_sampling\n",
    "from sklearn.preprocessing import LabelEncoder\n",
    "from sklearn.metrics import accuracy_score, f1_score, roc_auc_score\n",
    "from sklearn.manifold import TSNE\n",
    "from sklearn.preprocessing import StandardScaler, LabelEncoder\n",
    "import numpy as np\n",
    "import random"
   ]
  },
  {
   "cell_type": "code",
   "execution_count": 24,
   "metadata": {},
   "outputs": [],
   "source": [
    "\n",
    "nodes_df = pd.read_csv(\"nodes.csv\")\n",
    "edges_df = pd.read_csv(\"edges.csv\")\n",
    "\n",
    "\n",
    "scaler = StandardScaler()\n",
    "scaled_values = scaler.fit_transform(nodes_df[['publication_count', 'citation_count']])\n",
    "\n",
    "author_encoder = LabelEncoder()\n",
    "nodes_df['author_index'] = author_encoder.fit_transform(nodes_df['author_id'])\n",
    "nodes_df['institution_encoded'] = LabelEncoder().fit_transform(nodes_df['institution'])\n",
    "\n",
    "edges_df['source_index'] = author_encoder.transform(edges_df['source_author_id'])\n",
    "edges_df['target_index'] = author_encoder.transform(edges_df['target_author_id'])\n",
    "\n",
    "x_features = np.hstack((scaled_values, nodes_df[['institution_encoded']].values))\n",
    "x = torch.tensor(x_features, dtype=torch.float)\n",
    "edge_index = torch.tensor(edges_df[['source_index', 'target_index']].values.T, dtype=torch.long)\n",
    "\n",
    "data = Data(x=x, edge_index=edge_index)\n"
   ]
  },
  {
   "cell_type": "code",
   "execution_count": null,
   "metadata": {},
   "outputs": [],
   "source": [
    "class LinkPredictorWithMLP(nn.Module):\n",
    "    def __init__(self, in_channels, hidden_channels):\n",
    "        super().__init__()\n",
    "        \n",
    "        from torch_geometric.nn import SAGEConv\n",
    "\n",
    "        self.conv1 = SAGEConv(in_channels, hidden_channels)\n",
    "        self.conv2 = SAGEConv(hidden_channels, hidden_channels)\n",
    "        self.conv3 = SAGEConv(hidden_channels, hidden_channels)\n",
    "        self.bn1 = nn.BatchNorm1d(hidden_channels)\n",
    "        self.bn2 = nn.BatchNorm1d(hidden_channels)\n",
    "        self.dropout = nn.Dropout(0.3)\n",
    "\n",
    "        self.mlp = nn.Sequential(\n",
    "            nn.Linear(2 * hidden_channels, hidden_channels),\n",
    "            nn.ReLU(),\n",
    "            nn.Linear(hidden_channels, 1)\n",
    "        )\n",
    "\n",
    "    def encode(self, x, edge_index):\n",
    "        x = self.conv1(x, edge_index)\n",
    "        x = self.bn1(x)\n",
    "        x = F.relu(x)\n",
    "        x = self.dropout(x)\n",
    "        x = self.conv2(x, edge_index)\n",
    "        x = self.bn2(x)\n",
    "        x = F.relu(x)\n",
    "        x = self.dropout(x)\n",
    "        x = self.conv3(x, edge_index)\n",
    "        return x\n",
    "\n",
    "    def decode(self, z, edge_index):\n",
    "        z_src = z[edge_index[0]]\n",
    "        z_dst = z[edge_index[1]]\n",
    "        z_pair = torch.cat([z_src, z_dst], dim=1)\n",
    "        return self.mlp(z_pair).squeeze()\n",
    "\n",
    "    def forward(self, x, edge_index, edge_label_index):\n",
    "        z = self.encode(x, edge_index)\n",
    "        return self.decode(z, edge_label_index)\n"
   ]
  },
  {
   "cell_type": "code",
   "execution_count": 26,
   "metadata": {},
   "outputs": [],
   "source": [
    "pos_edge_index = data.edge_index\n",
    "neg_edge_index = negative_sampling(\n",
    "    edge_index=pos_edge_index,\n",
    "    num_nodes=data.num_nodes,\n",
    "    num_neg_samples=pos_edge_index.size(1)\n",
    ")\n",
    "\n",
    "edge_label_index = torch.cat([pos_edge_index, neg_edge_index], dim=1)\n",
    "edge_label = torch.cat([\n",
    "    torch.ones(pos_edge_index.size(1)),\n",
    "    torch.zeros(neg_edge_index.size(1))\n",
    "])\n"
   ]
  },
  {
   "cell_type": "code",
   "execution_count": 27,
   "metadata": {},
   "outputs": [
    {
     "name": "stdout",
     "output_type": "stream",
     "text": [
      "Epoch 20, Loss: 0.3791\n",
      "Epoch 40, Loss: 0.2261\n",
      "Epoch 60, Loss: 0.1606\n",
      "Epoch 80, Loss: 0.1527\n",
      "Epoch 100, Loss: 0.1149\n",
      "Epoch 120, Loss: 0.0969\n",
      "Epoch 140, Loss: 0.0846\n",
      "Epoch 160, Loss: 0.0938\n",
      "Epoch 180, Loss: 0.0786\n",
      "Epoch 200, Loss: 0.0680\n",
      "Epoch 220, Loss: 0.0649\n",
      "Epoch 240, Loss: 0.0785\n",
      "Epoch 260, Loss: 0.0765\n",
      "Epoch 280, Loss: 0.0719\n",
      "Epoch 300, Loss: 0.0528\n",
      "Epoch 320, Loss: 0.0495\n",
      "Epoch 340, Loss: 0.0661\n",
      "Epoch 360, Loss: 0.0449\n",
      "Epoch 380, Loss: 0.0398\n",
      "Epoch 400, Loss: 0.0432\n"
     ]
    }
   ],
   "source": [
    "model = LinkPredictorWithMLP(in_channels=3, hidden_channels=128)\n",
    "optimizer = torch.optim.Adam(model.parameters(), lr=0.003, weight_decay=5e-5)\n",
    "\n",
    "for epoch in range(1, 401):\n",
    "    model.train()\n",
    "    optimizer.zero_grad()\n",
    "    pred = model(data.x, data.edge_index, edge_label_index)\n",
    "    loss = F.binary_cross_entropy_with_logits(pred, edge_label)\n",
    "    loss.backward()\n",
    "    optimizer.step()\n",
    "\n",
    "    if epoch % 20 == 0:\n",
    "        print(f\"Epoch {epoch}, Loss: {loss.item():.4f}\")\n"
   ]
  },
  {
   "cell_type": "code",
   "execution_count": 28,
   "metadata": {},
   "outputs": [
    {
     "name": "stdout",
     "output_type": "stream",
     "text": [
      "Accuracy: 0.9903881700554529\n",
      "F1 Score: 0.9904235727440147\n",
      "AUC Score: 0.9995495778680544\n"
     ]
    }
   ],
   "source": [
    "model.eval()\n",
    "with torch.no_grad():\n",
    "    preds = model(data.x, data.edge_index, edge_label_index)\n",
    "    probs = torch.sigmoid(preds)\n",
    "    predicted_labels = (probs > 0.5).float()\n",
    "\n",
    "y_true = edge_label.cpu().numpy()\n",
    "y_pred = predicted_labels.cpu().numpy()\n",
    "y_score = probs.cpu().numpy()\n",
    "\n",
    "print(\"Accuracy:\", accuracy_score(y_true, y_pred))\n",
    "print(\"F1 Score:\", f1_score(y_true, y_pred))\n",
    "print(\"AUC Score:\", roc_auc_score(y_true, y_score))\n"
   ]
  },
  {
   "cell_type": "code",
   "execution_count": 31,
   "metadata": {},
   "outputs": [
    {
     "data": {
      "image/png": "[encoded data removed]",
      "text/plain": [
       "<Figure size 1000x700 with 1 Axes>"
      ]
     },
     "metadata": {},
     "output_type": "display_data"
    }
   ],
   "source": [
    "with torch.no_grad():\n",
    "    node_embeddings = model.encode(data.x, data.edge_index).cpu().numpy()\n",
    "\n",
    "tsne = TSNE(n_components=2, random_state=42)\n",
    "tsne_result = tsne.fit_transform(node_embeddings)\n",
    "\n",
    "plt.figure(figsize=(10, 7))\n",
    "plt.scatter(tsne_result[:, 0], tsne_result[:, 1], c='skyblue', s=25)\n",
    "plt.title(\"t-SNE of Author Embeddings (graphSage)\", fontsize=16)\n",
    "plt.grid(True)\n",
    "plt.show()\n"
   ]
  },
  {
   "cell_type": "code",
   "execution_count": 33,
   "metadata": {},
   "outputs": [],
   "source": [
    "# All existing edges\n",
    "existing = set([tuple(sorted([a.item(), b.item()])) for a, b in zip(data.edge_index[0], data.edge_index[1])])\n",
    "\n",
    "# Generate candidate author pairs that are NOT connected\n",
    "candidates = []\n",
    "for i in range(data.num_nodes):\n",
    "    for j in range(i + 1, data.num_nodes):\n",
    "        if (i, j) not in existing:\n",
    "            candidates.append((i, j))\n",
    "\n",
    "# Sample top 1000 for prediction\n",
    "sampled = random.sample(candidates, 1000)\n",
    "edge_label_index = torch.tensor(sampled).T"
   ]
  },
  {
   "cell_type": "code",
   "execution_count": 34,
   "metadata": {},
   "outputs": [
    {
     "name": "stdout",
     "output_type": "stream",
     "text": [
      "E. B. Turner || ROBERT FINN  |  Likelihood: 0.9938\n",
      "Christian von Mering || Aurélien Luciani  |  Likelihood: 0.9776\n",
      "Demis Hassabis || Jeremy Grimshaw  |  Likelihood: 0.9489\n",
      "Danqi Chen || Édouard Grave  |  Likelihood: 0.9480\n",
      "Michael Figurnov || James Thomas  |  Likelihood: 0.9353\n",
      "Sherjil Ozair || Saining Xie  |  Likelihood: 0.9086\n",
      "Travis E. Oliphant || Mehdi Mirza  |  Likelihood: 0.8862\n",
      "Julie Glanville || Jared Kaplan  |  Likelihood: 0.8847\n",
      "Francisco Massa || Piotr Dollár  |  Likelihood: 0.8605\n",
      "Georg Heigold || Seyedali Mirjalili  |  Likelihood: 0.8440\n"
     ]
    }
   ],
   "source": [
    "model.eval()\n",
    "with torch.no_grad():\n",
    "    z = model.encode(data.x, data.edge_index)\n",
    "    scores = torch.sigmoid(model.decode(z, edge_label_index))\n",
    "\n",
    "# Top 10 most likely collaborations\n",
    "top_scores, top_indices = torch.topk(scores, 10)\n",
    "top_pairs = edge_label_index[:, top_indices].T\n",
    "\n",
    "for score, (src, tgt) in zip(top_scores, top_pairs):\n",
    "    author1 = nodes_df[nodes_df['author_index'] == src.item()]['display_name'].values[0]\n",
    "    author2 = nodes_df[nodes_df['author_index'] == tgt.item()]['display_name'].values[0]\n",
    "    print(f\"{author1} || {author2}  |  Likelihood: {score.item():.4f}\")\n"
   ]
  }
 ],
 "metadata": {
  "kernelspec": {
   "display_name": "Python 3",
   "language": "python",
   "name": "python3"
  },
  "language_info": {
   "codemirror_mode": {
    "name": "ipython",
    "version": 3
   },
   "file_extension": ".py",
   "mimetype": "text/x-python",
   "name": "python",
   "nbconvert_exporter": "python",
   "pygments_lexer": "ipython3",
   "version": "3.12.6"
  }
 },
 "nbformat": 4,
 "nbformat_minor": 2
}
